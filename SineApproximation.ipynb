{
  "cells": [
    {
      "cell_type": "markdown",
      "source": [
        "# Imports"
      ],
      "metadata": {
        "id": "bwi8MTk1Ka2a"
      }
    },
    {
      "cell_type": "code",
      "source": [
        "import numpy as np\n",
        "import matplotlib.pyplot as plt\n",
        "from tqdm import tqdm"
      ],
      "execution_count": 185,
      "outputs": [],
      "metadata": {
        "datalore": {
          "type": "CODE",
          "hide_input_from_viewers": false,
          "hide_output_from_viewers": false
        },
        "id": "GOUeKUDhhquh"
      }
    },
    {
      "cell_type": "markdown",
      "source": [
        "# Utils"
      ],
      "metadata": {
        "id": "JeL4K6yPKXzM"
      }
    },
    {
      "cell_type": "code",
      "source": [
        "def tanh(x):\n",
        "    return np.tanh(x)\n",
        "\n",
        "def tanh_prime(x):\n",
        "    return 1-np.tanh(x)**2\n",
        "\n",
        "def sigmoid(X):\n",
        "   return 1/(1+np.exp(-X))\n",
        "\n",
        "def sigmoid_prime(X):\n",
        "   return sigmoid(X)*(1 - sigmoid(X))\n",
        "\n",
        "def last(X):\n",
        "    return X\n",
        "\n",
        "def mse(y_true, y_pred):\n",
        "    return np.mean(np.power(y_true-y_pred, 2))\n",
        "\n",
        "def mse_prime(y_true, y_pred):\n",
        "    return 2*(y_pred-y_true)/y_true.size\n",
        "\n",
        "def ReLU(x):\n",
        "    return x * (x > 0)\n",
        "\n",
        "def dReLU(x):\n",
        "    return 1. * (x > 0)"
      ],
      "execution_count": 186,
      "outputs": [],
      "metadata": {
        "datalore": {
          "type": "CODE",
          "hide_input_from_viewers": false,
          "hide_output_from_viewers": false
        },
        "id": "GfI86bLdhquu"
      }
    },
    {
      "cell_type": "markdown",
      "source": [
        "# Layers"
      ],
      "metadata": {
        "id": "mAYK2MwsKfjo"
      }
    },
    {
      "cell_type": "code",
      "source": [
        "class Layer:\n",
        "    def __init__(self):\n",
        "        self.input = None\n",
        "        self.output = None\n",
        "\n",
        "    def forward_propagation(self, input):\n",
        "        raise NotImplementedError\n",
        "\n",
        "    def backward_propagation(self, output_error, learning_rate):\n",
        "        raise NotImplementedError"
      ],
      "execution_count": 187,
      "outputs": [],
      "metadata": {
        "datalore": {
          "type": "CODE",
          "hide_input_from_viewers": false,
          "hide_output_from_viewers": false
        },
        "id": "3LiDn0uohquk"
      }
    },
    {
      "cell_type": "code",
      "source": [
        "class FullyConnectedLayer(Layer):\n",
        "    def __init__(self, input_size, output_size):\n",
        "        self.weights = np.random.rand(input_size, output_size) - 0.5\n",
        "        self.bias = np.random.rand(1, output_size) - 0.5\n",
        "\n",
        "    def forward_propagation(self, input):\n",
        "        self.input = input\n",
        "        self.output = np.dot(self.input, self.weights) + self.bias\n",
        "        return self.output\n",
        "\n",
        "    def backward_propagation(self, output_error, learning_rate):\n",
        "        delta = np.dot(output_error, self.weights.T)\n",
        "        delta_weight = learning_rate * np.dot(self.input.T, output_error)\n",
        "        self.weights -= delta_weight\n",
        "        self.bias -= learning_rate * output_error\n",
        "        return delta"
      ],
      "metadata": {
        "id": "kWVan5O7AB9J"
      },
      "execution_count": 188,
      "outputs": []
    },
    {
      "cell_type": "code",
      "source": [
        "class ActivationLayer(Layer):\n",
        "    def __init__(self, activation, activation_prime):\n",
        "        self.activation = activation\n",
        "        self.activation_prime = activation_prime\n",
        "\n",
        "    def forward_propagation(self, input_data):\n",
        "        self.input = input_data\n",
        "        self.output = self.activation(self.input)\n",
        "        return self.output\n",
        "\n",
        "    def backward_propagation(self, output_error, learning_rate):\n",
        "        return self.activation_prime(self.input) * output_error"
      ],
      "execution_count": 189,
      "outputs": [],
      "metadata": {
        "datalore": {
          "type": "CODE",
          "hide_input_from_viewers": false,
          "hide_output_from_viewers": false
        },
        "id": "hCVYD24_hquu"
      }
    },
    {
      "cell_type": "markdown",
      "source": [
        "# Network"
      ],
      "metadata": {
        "id": "XQpLiH6OKkdq"
      }
    },
    {
      "cell_type": "code",
      "source": [
        "class Network:\n",
        "    def __init__(self):\n",
        "        self.layers = []\n",
        "        self.loss = None\n",
        "        self.loss_prime = None\n",
        "\n",
        "    def add(self, layer):\n",
        "        self.layers.append(layer)\n",
        "\n",
        "    def set_loss(self, loss, loss_prime):\n",
        "        self.loss = loss\n",
        "        self.loss_prime = loss_prime\n",
        "\n",
        "    def predict(self, input_data):\n",
        "        samples = len(input_data)\n",
        "        result = []\n",
        "\n",
        "        for i in range(samples):\n",
        "            output = input_data[i]\n",
        "            for layer in self.layers:\n",
        "                output = layer.forward_propagation(output)\n",
        "            result.append(output)\n",
        "\n",
        "        return result\n",
        "\n",
        "    def train(self, x_train, y_train, x_test, y_test, epochs, learning_rate):\n",
        "        errors_test = []\n",
        "        errors_train = []\n",
        "        samples = len(x_train)\n",
        "\n",
        "        for i in tqdm(range(epochs)):\n",
        "            err = 0\n",
        "            for j in range(samples):\n",
        "                output = x_train[j]\n",
        "                for layer in self.layers:\n",
        "                    output = layer.forward_propagation(output)\n",
        "\n",
        "                err += self.loss(y_train[j], output)\n",
        "\n",
        "                error = self.loss_prime(y_train[j], output)\n",
        "                for layer in reversed(self.layers):\n",
        "                    error = layer.backward_propagation(error, learning_rate)\n",
        "\n",
        "            test_err = self.loss(y_test[i], self.predict([x_test[i]]))\n",
        "            errors_test.append((i+1, test_err))\n",
        "            err /= samples\n",
        "            errors_train.append((i+1, err))\n",
        "        return zip(errors_test, errors_train)"
      ],
      "execution_count": 190,
      "outputs": [],
      "metadata": {
        "datalore": {
          "type": "CODE",
          "hide_input_from_viewers": false,
          "hide_output_from_viewers": false
        },
        "id": "ub8J9Etahquv"
      }
    },
    {
      "cell_type": "markdown",
      "source": [
        "# Train"
      ],
      "metadata": {
        "id": "P0iM9d2JKpI8"
      }
    },
    {
      "cell_type": "markdown",
      "source": [
        "Create network"
      ],
      "metadata": {
        "id": "joTNUT2zK2Uj"
      }
    },
    {
      "cell_type": "code",
      "source": [
        "net = Network()\n",
        "net.add(FullyConnectedLayer(1, 20))\n",
        "net.add(ActivationLayer(ReLU, dReLU))\n",
        "net.add(FullyConnectedLayer(20, 30))\n",
        "net.add(ActivationLayer(ReLU, dReLU))\n",
        "net.add(FullyConnectedLayer(30, 1))\n",
        "net.set_loss(mse, mse_prime)"
      ],
      "metadata": {
        "id": "lgT4_acmKzAW"
      },
      "execution_count": 191,
      "outputs": []
    },
    {
      "cell_type": "markdown",
      "source": [
        "Create train set:"
      ],
      "metadata": {
        "id": "GlRNHcBCKtvk"
      }
    },
    {
      "cell_type": "code",
      "source": [
        "l = np.linspace(-2*3.14, 2*3.14, 1000)\n",
        "x_train = [l[i] for i in range(len(l)) if i % 2 == 1]\n",
        "x_test = [l[i] for i in range(len(l)) if i % 2 == 0]\n",
        "\n",
        "y_train = np.array([np.sin(x) for x in x_train])\n",
        "y_test = np.array([np.sin(x) for x in x_test])"
      ],
      "execution_count": 192,
      "outputs": [],
      "metadata": {
        "datalore": {
          "type": "CODE",
          "hide_input_from_viewers": false,
          "hide_output_from_viewers": false
        },
        "id": "0t2F3f8Uhquw"
      }
    },
    {
      "cell_type": "markdown",
      "source": [
        "Train and plot error"
      ],
      "metadata": {
        "id": "lJzGeuLbLKVU"
      }
    },
    {
      "cell_type": "code",
      "source": [
        "# print(\"Before:\")\n",
        "# print(net.layers[2].weights)\n",
        "train_data = net.train(x_train, y_train, x_test, y_test, epochs=400, learning_rate=0.001)\n",
        "# print(\"After:\")\n",
        "# print(net.layers[2].weights)\n",
        "train, test = zip(*train_data)\n",
        "\n",
        "epochs, errors = zip(*train)\n",
        "plt.plot(epochs, errors, 'b')\n",
        "plt.title(\"train\")\n",
        "plt.show()\n",
        "\n",
        "epochs, errors = zip(*test)\n",
        "plt.plot(epochs, errors, 'y')\n",
        "plt.title(\"test\")\n",
        "plt.show()"
      ],
      "execution_count": 193,
      "outputs": [
        {
          "output_type": "stream",
          "name": "stderr",
          "text": [
            "100%|██████████| 400/400 [00:28<00:00, 13.95it/s]\n"
          ]
        },
        {
          "output_type": "display_data",
          "data": {
            "text/plain": [
              "<Figure size 432x288 with 1 Axes>"
            ],
            "image/png": "[encoded data removed]"
          },
          "metadata": {
            "needs_background": "light"
          }
        },
        {
          "output_type": "display_data",
          "data": {
            "text/plain": [
              "<Figure size 432x288 with 1 Axes>"
            ],
            "image/png": "[encoded data removed]"
          },
          "metadata": {
            "needs_background": "light"
          }
        }
      ],
      "metadata": {
        "datalore": {
          "type": "CODE",
          "hide_input_from_viewers": false,
          "hide_output_from_viewers": false
        },
        "colab": {
          "base_uri": "https://localhost:8080/",
          "height": 562
        },
        "id": "RctgmFs7hqux",
        "outputId": "617cf077-6aac-4239-d8e2-94e31ebd1e8a"
      }
    },
    {
      "cell_type": "markdown",
      "source": [
        "Plot training result:"
      ],
      "metadata": {
        "id": "Os52j8iGLYKP"
      }
    },
    {
      "cell_type": "code",
      "source": [
        "y_train_predicted = []\n",
        "for x in x_train:\n",
        "  y_train_predicted.append(net.predict([x])[0][0][0])\n",
        "\n",
        "plt.plot(x_train, y_train, 'g')\n",
        "plt.plot(x_train, y_train_predicted, 'r')\n",
        "plt.show()"
      ],
      "metadata": {
        "id": "1y7DzEw7lKct",
        "colab": {
          "base_uri": "https://localhost:8080/",
          "height": 265
        },
        "outputId": "451659c8-3cb6-43ab-bab9-5a1f1f8f0bf8"
      },
      "execution_count": 194,
      "outputs": [
        {
          "output_type": "display_data",
          "data": {
            "text/plain": [
              "<Figure size 432x288 with 1 Axes>"
            ],
            "image/png": "[encoded data removed]"
          },
          "metadata": {
            "needs_background": "light"
          }
        }
      ]
    },
    {
      "cell_type": "code",
      "source": [
        "l = np.linspace(-4*3.14, 4*3.14, 1000)\n",
        "x_test = [l[i] for i in range(len(l)) if i % 2 == 0]\n",
        "y_test = np.array([np.sin(x) for x in x_test])\n",
        "\n",
        "y_test_predicted = []\n",
        "for x in x_test:\n",
        "  y_test_predicted.append(net.predict([x])[0][0][0])\n",
        "\n",
        "plt.plot(x_test, y_test, 'g')\n",
        "plt.plot(x_test, y_test, 'r')\n",
        "plt.show()"
      ],
      "metadata": {
        "colab": {
          "base_uri": "https://localhost:8080/",
          "height": 265
        },
        "id": "HkrhD0Tm9dYR",
        "outputId": "76ddeaa5-6f25-4e63-a7a5-bc18f1fd9d71"
      },
      "execution_count": 195,
      "outputs": [
        {
          "output_type": "display_data",
          "data": {
            "text/plain": [
              "<Figure size 432x288 with 1 Axes>"
            ],
            "image/png": "[encoded data removed]"
          },
          "metadata": {
            "needs_background": "light"
          }
        }
      ]
    }
  ],
  "metadata": {
    "datalore": {
      "version": 1,
      "computation_mode": "REACTIVE",
      "package_manager": "pip",
      "base_environment": "default",
      "packages": []
    },
    "colab": {
      "name": "Lab2.ipynb",
      "provenance": [],
      "collapsed_sections": []
    },
    "language_info": {
      "name": "python"
    },
    "kernelspec": {
      "name": "python3",
      "display_name": "Python 3"
    }
  },
  "nbformat": 4,
  "nbformat_minor": 0
}